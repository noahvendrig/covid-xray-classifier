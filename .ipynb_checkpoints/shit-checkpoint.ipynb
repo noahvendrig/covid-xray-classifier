{
 "cells": [
  {
   "cell_type": "code",
   "execution_count": 40,
   "id": "a1cf6b02",
   "metadata": {},
   "outputs": [],
   "source": [
    "import tensorflow as tf\n",
    "import matplotlib.pyplot as plt\n",
    "import pandas as pd\n",
    "import numpy as np\n",
    "import cv2\n",
    "from PIL import Image\n",
    "import os\n",
    "\n",
    "from tensorflow.keras.models import Sequential\n",
    "from tensorflow.keras.layers import BatchNormalization\n",
    "from tensorflow.keras.layers import Conv2D\n",
    "from tensorflow.keras.layers import MaxPooling2D\n",
    "from tensorflow.keras.layers import Activation\n",
    "from tensorflow.keras.layers import Flatten\n",
    "from tensorflow.keras.layers import Dropout\n",
    "from tensorflow.keras.layers import Dense\n",
    "from tensorflow.keras import backend as K\n",
    "\n",
    "from keras.models import Sequential\n",
    "from keras.layers import Dense, Dropout, Conv2D, MaxPool2D\n",
    "from keras.utils import np_utils\n",
    "\n",
    "from sklearn.model_selection import train_test_split\n",
    "\n",
    "# How to process img into numpy using OpenCV\n",
    "\n",
    "\n",
    "class Classifier:\n",
    "    def __init__(self, labels, X, y, path):\n",
    "        self.labels = labels\n",
    "        self.X = X\n",
    "        self.y = y\n",
    "        self.path = path\n",
    "\n",
    "        self.X_train = []\n",
    "        self.X_test = []\n",
    "        self.y_train = []\n",
    "        self.y_test = []\n",
    "\n",
    "\n",
    "    def ImageToArray(self, file):\n",
    "        img_arr = cv2.imread(file)   # reads an image in the BGR format\n",
    "        img_arr = cv2.cvtColor(img_arr, cv2.COLOR_BGR2RGB)   # BGR -> RGB\n",
    "        return img_arr\n",
    "\n",
    "\n",
    "    def ProcessImages(self):\n",
    "\n",
    "        # labels= ['normal','covid','pneumonia']\n",
    "        # X = []\n",
    "        names = []  # not used, but just for seeing the file names\n",
    "        # y = []\n",
    "\n",
    "        for label in self.labels:\n",
    "            # index cos doing all the files is too intensive\n",
    "            for filename in os.listdir(self.path+label+\"/images/\")[:5]:\n",
    "                # dont run this yet with all cos it will crash # divide by 255 to normalise the data\n",
    "                file = str(f\"{self.path}{label}/images/{filename}\")\n",
    "                arr = self.ImageToArray(file)\n",
    "                # having issues with appending np array (it clears the array each time, so we conver to python list first and then make the whole thing a np array later\n",
    "                arr = arr[::2, ::2].tolist() #convert to list so we can append and also shrink resolution to 150x150\n",
    "                label_index = self.labels.index(label)\n",
    "                self.X.append(arr)\n",
    "                self.y = np.append(self.y, label_index)\n",
    "\n",
    "\n",
    "    def ProcessArrays(self):\n",
    "        self.X = np.array(self.X)\n",
    "        self.X = self.X/255\n",
    "        self.X = self.X.astype('float32')\n",
    "\n",
    "        self.y = np.array(self.y, dtype='int8')\n",
    "        # y = tf.one_hot(y, 3)\n",
    "        # one hot encode outputs\n",
    "        self.y = np_utils.to_categorical(self.y)\n",
    "\n",
    "    def SplitDataset(self):\n",
    "        self.X_train, self.X_test, self.y_train, self.y_test = train_test_split(self.X, self.y, test_size=0.2)\n",
    "\n",
    "if __name__ == '__main__':\n",
    "    # Only executed if you start this script as the main script,\n",
    "    # i.e. you enter 'python path/to/wumpus.py' in a terminal.\n",
    "    # Assuming you saved the script in the directory 'path/to'\n",
    "    # and named it 'wumpus.py'.\n",
    "\n",
    "    # TODO: In the original game you can replay a dungeon (same positions of you and the threats)\n",
    "\n",
    "    c1 = Classifier(['normal', 'covid', 'pneumonia'], [], [], \"./dataset/\")\n",
    "    c1.ProcessImages()\n",
    "    c1.ProcessArrays()\n",
    "    c1.SplitDataset()\n",
    "    "
   ]
  },
  {
   "cell_type": "code",
   "execution_count": 41,
   "id": "2da41176",
   "metadata": {},
   "outputs": [
    {
     "data": {
      "text/plain": [
       "(12, 150, 150, 3)"
      ]
     },
     "execution_count": 41,
     "metadata": {},
     "output_type": "execute_result"
    }
   ],
   "source": [
    "c1.X_train.shape"
   ]
  },
  {
   "cell_type": "code",
   "execution_count": 43,
   "id": "22fe63aa",
   "metadata": {},
   "outputs": [
    {
     "data": {
      "text/plain": [
       "(12, 3)"
      ]
     },
     "execution_count": 43,
     "metadata": {},
     "output_type": "execute_result"
    }
   ],
   "source": [
    "c1.y_train.shape"
   ]
  },
  {
   "cell_type": "code",
   "execution_count": 24,
   "id": "8741fe54",
   "metadata": {},
   "outputs": [
    {
     "data": {
      "text/plain": [
       "(300, 150, 150, 3)"
      ]
     },
     "execution_count": 24,
     "metadata": {},
     "output_type": "execute_result"
    }
   ],
   "source": [
    "c1.X.shape"
   ]
  },
  {
   "cell_type": "code",
   "execution_count": null,
   "id": "2c7ee267",
   "metadata": {},
   "outputs": [],
   "source": []
  }
 ],
 "metadata": {
  "kernelspec": {
   "display_name": "Python 3 (ipykernel)",
   "language": "python",
   "name": "python3"
  },
  "language_info": {
   "codemirror_mode": {
    "name": "ipython",
    "version": 3
   },
   "file_extension": ".py",
   "mimetype": "text/x-python",
   "name": "python",
   "nbconvert_exporter": "python",
   "pygments_lexer": "ipython3",
   "version": "3.8.13"
  }
 },
 "nbformat": 4,
 "nbformat_minor": 5
}
