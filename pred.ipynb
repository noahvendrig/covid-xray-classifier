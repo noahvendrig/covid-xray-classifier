{
 "cells": [
  {
   "cell_type": "code",
   "execution_count": 2,
   "id": "b1557b5a",
   "metadata": {},
   "outputs": [
    {
     "name": "stdout",
     "output_type": "stream",
     "text": [
      "1/1 [==============================] - 1s 1s/step\n",
      "Predicted :- normal\n",
      "Actual :- normal\n",
      "\n",
      "1/1 [==============================] - 0s 66ms/step\n",
      "Predicted :- normal\n",
      "Actual :- covid\n",
      "\n"
     ]
    }
   ],
   "source": [
    "import numpy as np\n",
    "import cv2\n",
    "import tensorflow as tf\n",
    "import pickle\n",
    "import os\n",
    "\n",
    "class Classifier:\n",
    "\n",
    "    def __init__(self, model_path, img_paths):\n",
    "        self.model = tf.keras.models.load_model(model_path)\n",
    "        self.labels = pickle.loads(open('labels.pickle', \"rb\").read())\n",
    "        for img in img_paths:\n",
    "            self.Classify(img)\n",
    "\n",
    "\n",
    "    def ImageToArray(self, file):\n",
    "        img_arr = cv2.imread(file)   # reads an image in the BGR format\n",
    "        try:\n",
    "            img_arr = cv2.cvtColor(img_arr, cv2.COLOR_BGR2RGB)   # BGR -> RGB\n",
    "            return img_arr\n",
    "        except Exception as e:\n",
    "            print(\"INCORRECT FILE PATH\")\n",
    "            return\n",
    "        \n",
    "    \n",
    "    \n",
    "    def Classify(self, img):\n",
    "        actual_label = (img.split(\"/\")[-1]).split(\"-\")[0].lower()\n",
    "        new_img = self.ImageToArray(img)\n",
    "        new_img = (new_img[::2, ::2]/255).astype('float32')\n",
    "        new_img = tf.expand_dims(new_img, 0) # model expects a dataset so we expand_dims\n",
    "        self.prediction = self.model.predict(new_img)\n",
    "        self.prediction = np.argmax(self.prediction, axis=None, out=None) # convert from categorical back to index\n",
    "        \n",
    "        print(f\"Predicted :- {self.labels[self.prediction]}\")\n",
    "        print(f\"Actual :- {actual_label}\")\n",
    "        print()\n",
    "\n",
    "if __name__ == '__main__':\n",
    "    # Only executed if you start this script as the main script,\n",
    "    # i.e. you enter 'python path/to/main.py' in a terminal.\n",
    "    # Assuming you saved the script in the directory 'path/to'\n",
    "    # and named it 'main.py'.\n",
    "    c = Classifier(\"6-conv-128-nodes-2-dense-1655171754.model\", [\"./dataset/normal/images/Normal-10010.png\",\"./dataset/covid/images/COVID-3315.png\"])"
   ]
  },
  {
   "cell_type": "code",
   "execution_count": null,
   "id": "1e9f9cea",
   "metadata": {},
   "outputs": [],
   "source": []
  }
 ],
 "metadata": {
  "kernelspec": {
   "display_name": "Python 3 (ipykernel)",
   "language": "python",
   "name": "python3"
  },
  "language_info": {
   "codemirror_mode": {
    "name": "ipython",
    "version": 3
   },
   "file_extension": ".py",
   "mimetype": "text/x-python",
   "name": "python",
   "nbconvert_exporter": "python",
   "pygments_lexer": "ipython3",
   "version": "3.8.13"
  }
 },
 "nbformat": 4,
 "nbformat_minor": 5
}
