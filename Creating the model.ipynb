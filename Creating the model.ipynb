{
 "cells": [
  {
   "cell_type": "code",
   "execution_count": 1,
   "metadata": {},
   "outputs": [],
   "source": [
    "import tensorflow as tf\n",
    "from tensorflow.keras.callbacks import TensorBoard\n",
    "from tensorflow.keras.models import Sequential\n",
    "from tensorflow.keras.layers import Dense, Dropout, Activation, Flatten, Conv2D, MaxPooling2D\n",
    "import pickle\n",
    "import numpy as np\n",
    "import time"
   ]
  },
  {
   "cell_type": "code",
   "execution_count": 2,
   "metadata": {},
   "outputs": [],
   "source": [
    "NAME = f\"Covid-Binary-Classifier-CNN-64x2-{int(time.time())}\"\n",
    "\n",
    "tensorboard = TensorBoard(log_dir=f\"logs/{NAME}\")"
   ]
  },
  {
   "cell_type": "code",
   "execution_count": 3,
   "metadata": {},
   "outputs": [],
   "source": [
    "# gpu_options = tf.compat.v1.GPUOptions(per_process_gpu_memory_fraction=0.333)\n",
    "# sess = tf.compat.v1.Session(config=tf.compat.v1.ConfigProto(gpu_options=gpu_options))\n",
    "# only if you need to run multiple models at once so that it doesnt hog all the vram of the GPU"
   ]
  },
  {
   "cell_type": "code",
   "execution_count": 4,
   "metadata": {},
   "outputs": [],
   "source": [
    "X = pickle.load(open(\"X.pickle\", \"rb\"))\n",
    "y = np.array(pickle.load(open(\"y.pickle\", \"rb\")))\n",
    "\n",
    "X = X/255.0"
   ]
  },
  {
   "cell_type": "code",
   "execution_count": 5,
   "metadata": {},
   "outputs": [
    {
     "name": "stdout",
     "output_type": "stream",
     "text": [
      "Epoch 1/6\n",
      "  1/113 [..............................] - ETA: 0s - loss: 0.7010 - accuracy: 0.1250WARNING:tensorflow:From C:\\Users\\elect_09l\\AppData\\Roaming\\Python\\Python37\\site-packages\\tensorflow\\python\\ops\\summary_ops_v2.py:1277: stop (from tensorflow.python.eager.profiler) is deprecated and will be removed after 2020-07-01.\n",
      "Instructions for updating:\n",
      "use `tf.profiler.experimental.stop` instead.\n",
      "  2/113 [..............................] - ETA: 1:10 - loss: 2.1099 - accuracy: 0.4219WARNING:tensorflow:Callbacks method `on_train_batch_end` is slow compared to the batch time (batch time: 0.0259s vs `on_train_batch_end` time: 1.2533s). Check your callbacks.\n",
      "113/113 [==============================] - 11s 98ms/step - loss: 0.1588 - accuracy: 0.9406 - val_loss: 0.0471 - val_accuracy: 0.9800\n",
      "Epoch 2/6\n",
      "113/113 [==============================] - 9s 77ms/step - loss: 0.0671 - accuracy: 0.9764 - val_loss: 0.0389 - val_accuracy: 0.9850\n",
      "Epoch 3/6\n",
      "113/113 [==============================] - 10s 84ms/step - loss: 0.0345 - accuracy: 0.9881 - val_loss: 0.0233 - val_accuracy: 0.9925\n",
      "Epoch 4/6\n",
      "113/113 [==============================] - 8s 73ms/step - loss: 0.0158 - accuracy: 0.9950 - val_loss: 0.0145 - val_accuracy: 0.9925\n",
      "Epoch 5/6\n",
      "113/113 [==============================] - 9s 81ms/step - loss: 0.0155 - accuracy: 0.9939 - val_loss: 0.0241 - val_accuracy: 0.9925\n",
      "Epoch 6/6\n",
      "113/113 [==============================] - 9s 82ms/step - loss: 0.0141 - accuracy: 0.9967 - val_loss: 0.0442 - val_accuracy: 0.9825\n"
     ]
    },
    {
     "data": {
      "text/plain": [
       "<tensorflow.python.keras.callbacks.History at 0x1f525c45588>"
      ]
     },
     "execution_count": 5,
     "metadata": {},
     "output_type": "execute_result"
    }
   ],
   "source": [
    "model = Sequential()\n",
    "\n",
    "model.add(Conv2D(64,(3,3), input_shape=X.shape[1:], activation=\"relu\"))\n",
    "model.add(MaxPooling2D(pool_size=(2,2)))\n",
    "\n",
    "model.add(Conv2D(64,(3,3), activation=\"relu\"))\n",
    "model.add(MaxPooling2D(pool_size=(2,2)))\n",
    "\n",
    "model.add(Flatten()) # Converts 3D feature maps into 1D feature vectors\n",
    "model.add(Dense(64, activation=\"relu\"))\n",
    "\n",
    "model.add(Dense(1, activation=\"sigmoid\"))\n",
    "\n",
    "model.compile(loss=\"binary_crossentropy\", optimizer=\"adam\", metrics=[\"accuracy\"])\n",
    "\n",
    "model.fit(X, y, batch_size=32, validation_split=0.1, epochs=6, callbacks=[tensorboard])"
   ]
  },
  {
   "cell_type": "code",
   "execution_count": null,
   "metadata": {},
   "outputs": [],
   "source": []
  }
 ],
 "metadata": {
  "kernelspec": {
   "display_name": "Python 3",
   "language": "python",
   "name": "python3"
  },
  "language_info": {
   "codemirror_mode": {
    "name": "ipython",
    "version": 3
   },
   "file_extension": ".py",
   "mimetype": "text/x-python",
   "name": "python",
   "nbconvert_exporter": "python",
   "pygments_lexer": "ipython3",
   "version": "3.7.9"
  }
 },
 "nbformat": 4,
 "nbformat_minor": 4
}
